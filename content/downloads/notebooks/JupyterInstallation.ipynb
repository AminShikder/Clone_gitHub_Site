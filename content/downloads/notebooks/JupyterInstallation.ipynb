{
 "cells": [
  {
   "cell_type": "markdown",
   "metadata": {},
   "source": [
    "# Installing Python Packages from a Jupyter Notebook"
   ]
  },
  {
   "cell_type": "markdown",
   "metadata": {},
   "source": [
    "<!--PELICAN_BEGIN_SUMMARY-->\n",
    "\n",
    "In software, it's said that [all abstractions are leaky](https://www.joelonsoftware.com/2002/11/11/the-law-of-leaky-abstractions/), and this is true for the Jupyter notebook as it is for any other software.\n",
    "I most often see this manifest itself with the following issue:\n",
    "\n",
    "> I installed *package X* and now I can't import it in the notebook. Help!\n",
    "    \n",
    "This issue is a perrennial source of StackOverflow questions (e.g. [this](https://stackoverflow.com/questions/39007571/running-jupyter-with-multiple-python-and-ipython-paths/), [that](https://stackoverflow.com/questions/42500142/importerror-no-module-named-jwt-in-jupyter), [here](https://stackoverflow.com/questions/32777807/importerror-no-module-named-cv2-using-jupyter), [there](https://stackoverflow.com/questions/42500649/failed-to-import-numpy-as-np-when-i-worked-with-jupyter-notebook), [another](https://stackoverflow.com/questions/46634660/jupyter-notebook-wrong-sys-path-and-sys-executable), [this one](https://stackoverflow.com/questions/44222513/cannot-import-datashader-installed-using-miniconda), [that one](https://stackoverflow.com/questions/42178070/jupyter-notebook-importerror-no-module-named-sklearn), [and this](https://stackoverflow.com/questions/42034508/fail-pandas-in-python3-jupyter-notebook)... etc.).\n",
    "Fundamentally the problem usually comes down to the fact that the Jupyter notebook is pointing to a different Python kernel than the package manager.\n",
    "In the most straigthforward use-cases, this issue does not arise, but the few times that it does, debugging the problem requires knowledge of both the intricacies of the operating system, **and** the intricacies of Jupyter itself.\n",
    "\n",
    "In other words, the Jupyter notebook, like all abstractions, is leaky.\n",
    "That doesn't mean it's bad (I'm a pretty outspoken advocate for Jupyter in many contexts!) but it does mean we need to take these problems seriously.\n",
    "\n",
    "This post is an attempt to add some clarity to this issue. I'll address a couple things:\n",
    "\n",
    "- **First**, I'll provide a quick, bare-bones answer to the general question, *how can I install a Python package so it works with my jupyter notebook, using pip and/or conda?*.\n",
    "\n",
    "- **Second**, I'll dive into some of the background of exactly *what* the Jupyter notebook abstraction is doing, how it interacts with the complexities of the operating system, and how you can think about where the \"leaks\" are, and thus better understand and debug the 1% of times that things stop working.\n",
    "\n",
    "- **Third**, I'll talk about some ideas the community might consider to help smooth-over these issues, including some changes that the Jupyter and Conda projects might consider to ease the cognitive load on users.\n",
    "\n",
    "<!--PELICAN_END_SUMMARY-->"
   ]
  },
  {
   "cell_type": "markdown",
   "metadata": {},
   "source": [
    "## Quick Fix: How To Install Packages from the Jupyter Notebook\n",
    "\n",
    "If you're just looking for an easy answer to the question, \"how do I install packages so they work with the notebook\", then look no further."
   ]
  },
  {
   "cell_type": "markdown",
   "metadata": {},
   "source": [
    "### pip vs. conda\n",
    "\n",
    "First, let me briefly say a word about pip vs. conda.\n",
    "I wrote [way more than you ever want to know](https://jakevdp.github.io/blog/2016/08/25/conda-myths-and-misconceptions/) about these in a post last year, but the essential difference between the two is this:\n",
    "\n",
    "- *pip* installs **python** packages in **any environment**.\n",
    "- *conda* installs **any** package in **conda environments**.\n",
    "\n",
    "If you already have a Python installation that you're using, then the choice of which to use is easy:\n",
    "\n",
    "- If you installed Python using Anaconda, Miniconda, or conda, then use conda to install Python packages. If conda tells you the package doesn't exist, then fall-back to using pip.\n",
    "  \n",
    "- If you installed Python any other way (from source, using pyenv, virtualenv, etc.), then use pip to install Python packages\n",
    "\n",
    "That's all there is to it!"
   ]
  },
  {
   "cell_type": "markdown",
   "metadata": {},
   "source": [
    "### How to use Conda from the Jupyter Notebook\n",
    "\n",
    "If you're in the jupyter notebook and you want to install a package with conda, you might be tempted to use the ``!`` notation to run conda directly as a shell command from the notebook:"
   ]
  },
  {
   "cell_type": "code",
   "execution_count": 1,
   "metadata": {},
   "outputs": [
    {
     "name": "stdout",
     "output_type": "stream",
     "text": [
      "Fetching package metadata ...........\n",
      "Solving package specifications: .\n",
      "\n",
      "# All requested packages already installed.\n",
      "# packages in environment at /Users/jakevdp/anaconda/envs/python3.6:\n",
      "#\n",
      "numpy                     1.13.3           py36h2cdce51_0  \n"
     ]
    }
   ],
   "source": [
    "# DON'T DO THIS!\n",
    "!conda install --yes numpy"
   ]
  },
  {
   "cell_type": "markdown",
   "metadata": {},
   "source": [
    "(Note that we use ``--yes`` to automatically answer ``y`` if and when conda asks for user confirmation)\n",
    "\n",
    "For various reasons that I'll outline more fully below, this **will not generally work** if you want to use these installed packages from Jupyter, though it may work in the simplest cases.\n",
    "\n",
    "Here is a short snippet that should work in general:"
   ]
  },
  {
   "cell_type": "code",
   "execution_count": 2,
   "metadata": {},
   "outputs": [
    {
     "name": "stdout",
     "output_type": "stream",
     "text": [
      "Fetching package metadata ...........\n",
      "Solving package specifications: .\n",
      "\n",
      "# All requested packages already installed.\n",
      "# packages in environment at /Users/jakevdp/anaconda:\n",
      "#\n",
      "numpy                     1.13.3           py36h2cdce51_0  \n"
     ]
    }
   ],
   "source": [
    "# Install a conda package in the current Jupyter kernel\n",
    "import sys\n",
    "!conda install --yes --prefix {sys.prefix} numpy"
   ]
  },
  {
   "cell_type": "markdown",
   "metadata": {},
   "source": [
    "That bit of extra boiler-plate makes certain that conda installs the package in the currently-running Jupyter kernel (thanks to [Min Ragan-Kelley](https://twitter.com/minrk/status/842067777150169088) for suggesting this approach).\n",
    "I'll discuss why this is needed momentarily."
   ]
  },
  {
   "cell_type": "markdown",
   "metadata": {},
   "source": [
    "### How to use Pip from the Jupyter Notebook\n",
    "\n",
    "If you're using the Jupyter notebook and want to install a package with ``pip``, you similarly might be inclined to run pip directly in the shell:"
   ]
  },
  {
   "cell_type": "code",
   "execution_count": 3,
   "metadata": {},
   "outputs": [
    {
     "name": "stdout",
     "output_type": "stream",
     "text": [
      "Requirement already satisfied: numpy in /Users/jakevdp/anaconda/envs/python3.6/lib/python3.6/site-packages\r\n"
     ]
    }
   ],
   "source": [
    "# DON'T DO THIS\n",
    "!pip install numpy"
   ]
  },
  {
   "cell_type": "markdown",
   "metadata": {},
   "source": [
    "For various reasons that I'll outline more fully below, this **will not generally work** if you want to use these installed packages from Jupyter, though it may work in the simplest cases.\n",
    "\n",
    "Here is a short snippet that should generally work:"
   ]
  },
  {
   "cell_type": "code",
   "execution_count": 4,
   "metadata": {},
   "outputs": [
    {
     "name": "stdout",
     "output_type": "stream",
     "text": [
      "Requirement already satisfied: numpy in /Users/jakevdp/anaconda/lib/python3.6/site-packages\r\n"
     ]
    }
   ],
   "source": [
    "# Install a pip package in the current Jupyter kernel\n",
    "import sys\n",
    "!{sys.executable} -m pip install numpy"
   ]
  },
  {
   "cell_type": "markdown",
   "metadata": {},
   "source": [
    "That bit of extra boiler-plate makes certain that you are running the ``pip`` version associated with the current kernel, so that the packages will be installed in the right place.\n",
    "This is related to the fact that, even setting Jupyter notebooks aside, it's clearer to install packages using\n",
    "\n",
    "    $ python -m pip install <package>\n",
    "    \n",
    "rather than the potentially problematic\n",
    "\n",
    "    $ pip install <package>\n",
    "    \n",
    "In fact, CPython core developer Nick Coghlan has indicated that because of these potential issues, the former [may someday be required](https://twitter.com/ncoghlan_dev/status/922979220711661568).\n",
    "I'll go into more detail on this below."
   ]
  },
  {
   "cell_type": "markdown",
   "metadata": {},
   "source": [
    "## The Details: Why is Installation from Jupyter so Messy?\n",
    "\n",
    "Those above solutions should work in all cases... but why is that boilerplate necessary?\n",
    "In short, it's because in Jupyter, **the shell environment and the Python environment are disconnected**.\n",
    "Understanding why that matters depends on a basic understanding of a few aspects of your computer; for completeness and background, I'm going to say a few words on each of the following topics:\n",
    "\n",
    "1. how your operating system locates executable programs,\n",
    "2. how Python locates imported packages, and\n",
    "3. how Jupyter decides which Python executable to use.\n",
    "\n",
    "For completeness, I'm going to give some background on each of these questions (this discussion is partly drawn from [This StackOverflow answer](https://stackoverflow.com/questions/39007571/running-jupyter-with-multiple-python-and-ipython-paths/39022003#39022003) that I wrote last year).\n",
    "\n",
    "*Note: the following discussion assumes Linux, Unix, MacOSX and similar operating systems. Windows has a slightly different architecture, and so some details will differ.*"
   ]
  },
  {
   "cell_type": "markdown",
   "metadata": {},
   "source": [
    "### How your operating system locates executables\n",
    "\n",
    "When you're using the terminal and type a command like ``python``, ``jupyter``, ``ipython``, ``pip``, ``conda``, etc., your operating system contains a well-defined mechanism to find the executable file the name refers to.\n",
    "On Linux & Mac systems, this mechanism is the ``$PATH`` environment variable:"
   ]
  },
  {
   "cell_type": "code",
   "execution_count": 5,
   "metadata": {},
   "outputs": [
    {
     "name": "stdout",
     "output_type": "stream",
     "text": [
      "/Users/jakevdp/anaconda/envs/python3.6/bin:/Users/jakevdp/anaconda/envs/python3.6/bin:/Users/jakevdp/anaconda/bin:/usr/local/bin:/usr/bin:/bin:/usr/sbin:/sbin\r\n"
     ]
    }
   ],
   "source": [
    "!echo $PATH"
   ]
  },
  {
   "cell_type": "markdown",
   "metadata": {},
   "source": [
    "``$PATH`` lists the directories, in order, that will be searched for any executable: for example, if I type ``python`` on my system with the above ``$PATH``, it will first look for ``/Users/jakevdp/anaconda/envs/python3.6/bin/python``, and if that doesn't exist it will look for ``/Users/jakevdp/anaconda/bin/python``, and so on.\n",
    "\n",
    "(Parenthetical note: why is the first entry of ``$PATH`` repeated twice? Because every time you launch ``jupyter notebook``, Jupyter prepends the location of the ``jupyter`` executable to the beginning of the ``$PATH``. In this case, the location was already at the beginning of the path, and the result is that the entry is duplicated. Duplicate entries may be a bit messy, but cause no harm).\n",
    "\n",
    "You can use the ``which`` command to see beforehand which ``python`` executable is the first found:"
   ]
  },
  {
   "cell_type": "code",
   "execution_count": 6,
   "metadata": {},
   "outputs": [
    {
     "name": "stdout",
     "output_type": "stream",
     "text": [
      "/Users/jakevdp/anaconda/envs/python3.6/bin/python\r\n"
     ]
    }
   ],
   "source": [
    "!which python"
   ]
  },
  {
   "cell_type": "markdown",
   "metadata": {},
   "source": [
    "Note that this is true of *any* command you use from the terminal:"
   ]
  },
  {
   "cell_type": "code",
   "execution_count": 7,
   "metadata": {},
   "outputs": [
    {
     "name": "stdout",
     "output_type": "stream",
     "text": [
      "/bin/ls\r\n"
     ]
    }
   ],
   "source": [
    "!which ls"
   ]
  },
  {
   "cell_type": "markdown",
   "metadata": {},
   "source": [
    "even ``which`` itself:"
   ]
  },
  {
   "cell_type": "code",
   "execution_count": 8,
   "metadata": {},
   "outputs": [
    {
     "name": "stdout",
     "output_type": "stream",
     "text": [
      "/usr/bin/which\r\n"
     ]
    }
   ],
   "source": [
    "!which which"
   ]
  },
  {
   "cell_type": "markdown",
   "metadata": {},
   "source": [
    "You can optionally add the ``-a`` tag to see *all available* executables in your path; for example:"
   ]
  },
  {
   "cell_type": "code",
   "execution_count": 9,
   "metadata": {},
   "outputs": [
    {
     "name": "stdout",
     "output_type": "stream",
     "text": [
      "/Users/jakevdp/anaconda/envs/python3.6/bin/python\r\n",
      "/Users/jakevdp/anaconda/envs/python3.6/bin/python\r\n",
      "/Users/jakevdp/anaconda/bin/python\r\n",
      "/usr/bin/python\r\n"
     ]
    }
   ],
   "source": [
    "!which -a python"
   ]
  },
  {
   "cell_type": "code",
   "execution_count": 10,
   "metadata": {},
   "outputs": [
    {
     "name": "stdout",
     "output_type": "stream",
     "text": [
      "/Users/jakevdp/anaconda/envs/python3.6/bin/conda\r\n",
      "/Users/jakevdp/anaconda/envs/python3.6/bin/conda\r\n",
      "/Users/jakevdp/anaconda/bin/conda\r\n"
     ]
    }
   ],
   "source": [
    "!which -a conda"
   ]
  },
  {
   "cell_type": "code",
   "execution_count": 11,
   "metadata": {},
   "outputs": [
    {
     "name": "stdout",
     "output_type": "stream",
     "text": [
      "/Users/jakevdp/anaconda/envs/python3.6/bin/pip\r\n",
      "/Users/jakevdp/anaconda/envs/python3.6/bin/pip\r\n",
      "/Users/jakevdp/anaconda/bin/pip\r\n"
     ]
    }
   ],
   "source": [
    "!which -a pip"
   ]
  },
  {
   "cell_type": "markdown",
   "metadata": {},
   "source": [
    "It's important to keep this in mind, especially if you have multiple installations of a program with the same name, as I do here."
   ]
  },
  {
   "cell_type": "markdown",
   "metadata": {},
   "source": [
    "### How Python locates packages\n",
    "\n",
    "When you import a package in Python, the Python program uses a similar mechanism to locate the code to import.\n",
    "The list of paths used by Python to locate a module is in ``sys.path``:"
   ]
  },
  {
   "cell_type": "code",
   "execution_count": 12,
   "metadata": {},
   "outputs": [
    {
     "data": {
      "text/plain": [
       "['',\n",
       " '/Users/jakevdp/anaconda/lib/python36.zip',\n",
       " '/Users/jakevdp/anaconda/lib/python3.6',\n",
       " '/Users/jakevdp/anaconda/lib/python3.6/lib-dynload',\n",
       " '/Users/jakevdp/anaconda/lib/python3.6/site-packages',\n",
       " '/Users/jakevdp/anaconda/lib/python3.6/site-packages/schemapi-0.3.0.dev0+791c7f6-py3.6.egg',\n",
       " '/Users/jakevdp/anaconda/lib/python3.6/site-packages/setuptools-27.2.0-py3.6.egg',\n",
       " '/Users/jakevdp/anaconda/lib/python3.6/site-packages/IPython/extensions',\n",
       " '/Users/jakevdp/.ipython']"
      ]
     },
     "execution_count": 12,
     "metadata": {},
     "output_type": "execute_result"
    }
   ],
   "source": [
    "import sys\n",
    "sys.path"
   ]
  },
  {
   "cell_type": "markdown",
   "metadata": {},
   "source": [
    "By default, the first place Python looks for a package is an empty path, meaning the current directory.\n",
    "After that, it goes down the list of locations until it finds one with the package being imported.\n",
    "You can find out which location has been used using the ``__path__`` attribute of the package.\n",
    "\n",
    "For example:"
   ]
  },
  {
   "cell_type": "code",
   "execution_count": 13,
   "metadata": {},
   "outputs": [
    {
     "data": {
      "text/plain": [
       "['/Users/jakevdp/anaconda/lib/python3.6/site-packages/numpy']"
      ]
     },
     "execution_count": 13,
     "metadata": {},
     "output_type": "execute_result"
    }
   ],
   "source": [
    "import numpy\n",
    "numpy.__path__"
   ]
  },
  {
   "cell_type": "markdown",
   "metadata": {},
   "source": [
    "In most cases, a Python package you install with ``pip`` or with ``conda`` will be put in the ``site-packages``  directory.\n",
    "The important thing to realize is that each python executable has **it's own** site-packages: what this means is that when you install a package, it is **associated with particular python executable** and by default can only be used with that Python!\n",
    "\n",
    "We can see this by printing the ``sys.path`` variables for each of the available ``python`` executables in my path, using Jupyter's delightful ability to mix Python and bash commands in a single code block:"
   ]
  },
  {
   "cell_type": "code",
   "execution_count": 14,
   "metadata": {},
   "outputs": [
    {
     "name": "stdout",
     "output_type": "stream",
     "text": [
      "--------\n",
      "/Users/jakevdp/anaconda/bin/python\n",
      "sys.path = ['', '/Users/jakevdp/anaconda/lib/python36.zip', '/Users/jakevdp/anaconda/lib/python3.6', '/Users/jakevdp/anaconda/lib/python3.6/lib-dynload', '/Users/jakevdp/anaconda/lib/python3.6/site-packages', '/Users/jakevdp/anaconda/lib/python3.6/site-packages/schemapi-0.3.0.dev0+791c7f6-py3.6.egg', '/Users/jakevdp/anaconda/lib/python3.6/site-packages/setuptools-27.2.0-py3.6.egg']\n",
      "--------\n",
      "/usr/bin/python\n",
      "('sys.path =', ['', '/System/Library/Frameworks/Python.framework/Versions/2.7/lib/python27.zip', '/System/Library/Frameworks/Python.framework/Versions/2.7/lib/python2.7', '/System/Library/Frameworks/Python.framework/Versions/2.7/lib/python2.7/plat-darwin', '/System/Library/Frameworks/Python.framework/Versions/2.7/lib/python2.7/plat-mac', '/System/Library/Frameworks/Python.framework/Versions/2.7/lib/python2.7/plat-mac/lib-scriptpackages', '/System/Library/Frameworks/Python.framework/Versions/2.7/lib/python2.7/lib-tk', '/System/Library/Frameworks/Python.framework/Versions/2.7/lib/python2.7/lib-old', '/System/Library/Frameworks/Python.framework/Versions/2.7/lib/python2.7/lib-dynload', '/Library/Python/2.7/site-packages', '/System/Library/Frameworks/Python.framework/Versions/2.7/Extras/lib/python', '/System/Library/Frameworks/Python.framework/Versions/2.7/Extras/lib/python/PyObjC'])\n",
      "--------\n",
      "/Users/jakevdp/anaconda/envs/python3.6/bin/python\n",
      "sys.path = ['', '/Users/jakevdp/anaconda/envs/python3.6/lib/python36.zip', '/Users/jakevdp/anaconda/envs/python3.6/lib/python3.6', '/Users/jakevdp/anaconda/envs/python3.6/lib/python3.6/lib-dynload', '/Users/jakevdp/anaconda/envs/python3.6/lib/python3.6/site-packages']\n"
     ]
    }
   ],
   "source": [
    "paths = !which -a python\n",
    "for path in set(paths):\n",
    "    print('--------')\n",
    "    print(path)\n",
    "    !{path} -c \"import sys; print('sys.path =', sys.path)\""
   ]
  },
  {
   "cell_type": "markdown",
   "metadata": {},
   "source": [
    "The details here are not particularly important, but it is important to emphasize that *each Python executable has its own set of packages*, and unless you change ``sys.path`` (which should be done with care) you cannot import one python's package from another python.\n",
    "\n",
    "When you run ``pip install`` or ``conda install``, these commands are associated with a well-defined Python version, generally the version that is within the same path:"
   ]
  },
  {
   "cell_type": "code",
   "execution_count": 15,
   "metadata": {},
   "outputs": [
    {
     "name": "stdout",
     "output_type": "stream",
     "text": [
      "/Users/jakevdp/anaconda/envs/python3.6/bin/python\r\n"
     ]
    }
   ],
   "source": [
    "!which python"
   ]
  },
  {
   "cell_type": "code",
   "execution_count": 16,
   "metadata": {},
   "outputs": [
    {
     "name": "stdout",
     "output_type": "stream",
     "text": [
      "/Users/jakevdp/anaconda/envs/python3.6/bin/pip\r\n"
     ]
    }
   ],
   "source": [
    "!which pip"
   ]
  },
  {
   "cell_type": "code",
   "execution_count": 17,
   "metadata": {},
   "outputs": [
    {
     "name": "stdout",
     "output_type": "stream",
     "text": [
      "/Users/jakevdp/anaconda/envs/python3.6/bin/conda\r\n"
     ]
    }
   ],
   "source": [
    "!which conda"
   ]
  },
  {
   "cell_type": "markdown",
   "metadata": {},
   "source": [
    "The reason these commands go to ``/Users/jakevdp/anaconda/envs/python3.6/bin/`` first is because *this is the path from which I executed* ``jupyter notebook``.\n",
    "    So, when you run ``!pip install XXX`` or ``!conda install XXX``, in this case, the installed packages will be associated with ``/Users/jakevdp/anaconda/envs/python3.6/bin/python``, the Python version used to launch the Jupyter notebook."
   ]
  },
  {
   "cell_type": "markdown",
   "metadata": {},
   "source": [
    "#### Jupyter's kernel/shell mismatch\n",
    "\n",
    "This then is the root of the installation headaches: because of the way Jupyter is architected, the ``python`` at the top of your ``$PATH`` is not necessarily the ``python`` being used by the notebook to execute code.\n",
    "Within a Python session, we can use ``sys.executable`` to figure out which Python is being used:"
   ]
  },
  {
   "cell_type": "code",
   "execution_count": 18,
   "metadata": {},
   "outputs": [
    {
     "data": {
      "text/plain": [
       "'/Users/jakevdp/anaconda/bin/python'"
      ]
     },
     "execution_count": 18,
     "metadata": {},
     "output_type": "execute_result"
    }
   ],
   "source": [
    "sys.executable"
   ]
  },
  {
   "cell_type": "markdown",
   "metadata": {},
   "source": [
    "Compare this to"
   ]
  },
  {
   "cell_type": "code",
   "execution_count": 19,
   "metadata": {},
   "outputs": [
    {
     "name": "stdout",
     "output_type": "stream",
     "text": [
      "/Users/jakevdp/anaconda/envs/python3.6/bin/python\r\n"
     ]
    }
   ],
   "source": [
    "!which python"
   ]
  },
  {
   "cell_type": "markdown",
   "metadata": {},
   "source": [
    "The two differ, and this is why a simple ``!pip install`` or ``!conda install`` does not work: they both install packages in the ``site-packages`` of the wrong Python installation.\n",
    "\n",
    "This is why I recommended the more verbose versions of these commands above.\n",
    "\n",
    "##### For ``conda``:\n",
    "\n",
    "From the command line, you can use:\n",
    "\n",
    "```\n",
    "$ conda install --yes --prefix /Users/jakevdp/anaconda numpy\n",
    "```\n",
    "\n",
    "or (using syntax available in the notebook or IPython terminal)\n",
    "\n",
    "```\n",
    "!conda install --yes --prefix {sys.prefix} numpy\n",
    "```\n",
    "\n",
    "##### For ``pip``:\n",
    "\n",
    "From the command line, you can use:\n",
    "\n",
    "```\n",
    "$ /Users/jakevdp/anaconda/bin/python -m pip install numpy\n",
    "```\n",
    "\n",
    "or (again using IPython syntax)\n",
    "\n",
    "```\n",
    "!{sys.executable} -m pip install numpy\n",
    "```\n",
    "\n",
    "Remember: you need your *installation command* to match the *current python executable* if you want installed packages to be available in the notebook."
   ]
  },
  {
   "cell_type": "markdown",
   "metadata": {},
   "source": [
    "### How Jupyter executes code: Jupyter Kernels\n",
    "\n",
    "So what is the reason the shell and the Python executable don't necessarily match?\n",
    "This goes to the question of how Jupyter decides how it will execute code, and this brings us to the concept of a *Jupyter Kernel*.\n",
    "\n",
    "A Jupyter kernel is a set of files that point Jupyter to some means of executing code within the notebook.\n",
    "For Python kernels, this will point to a particular Python version, but Jupyter is designed to be much more general than this: Jupyter has [dozens of available kernels](https://github.com/jupyter/jupyter/wiki/Jupyter-kernels) for languages including Julia, Python, R, Ruby, Haskell, and even C++ and Fortran!\n",
    "\n",
    "To see the kernels you have available on your system, you can run the following command in the shell:"
   ]
  },
  {
   "cell_type": "code",
   "execution_count": 20,
   "metadata": {},
   "outputs": [
    {
     "name": "stdout",
     "output_type": "stream",
     "text": [
      "Available kernels:\r\n",
      "  python3       /Users/jakevdp/anaconda/envs/python3.6/lib/python3.6/site-packages/ipykernel/resources\r\n",
      "  conda-root    /Users/jakevdp/Library/Jupyter/kernels/conda-root\r\n",
      "  myenv         /Users/jakevdp/Library/Jupyter/kernels/myenv\r\n",
      "  python2.7     /Users/jakevdp/Library/Jupyter/kernels/python2.7\r\n",
      "  python3.5     /Users/jakevdp/Library/Jupyter/kernels/python3.5\r\n",
      "  python3.6     /Users/jakevdp/Library/Jupyter/kernels/python3.6\r\n"
     ]
    }
   ],
   "source": [
    "!jupyter kernelspec list"
   ]
  },
  {
   "cell_type": "markdown",
   "metadata": {},
   "source": [
    "Each of these listed kernels is a directory that contains a file called ``kernel.json`` which specifies, among other things, which language and executable the kernel should use.\n",
    "For example:"
   ]
  },
  {
   "cell_type": "code",
   "execution_count": 21,
   "metadata": {},
   "outputs": [
    {
     "name": "stdout",
     "output_type": "stream",
     "text": [
      "{\r\n",
      " \"argv\": [\r\n",
      "  \"/Users/jakevdp/anaconda/bin/python\",\r\n",
      "  \"-m\",\r\n",
      "  \"ipykernel_launcher\",\r\n",
      "  \"-f\",\r\n",
      "  \"{connection_file}\"\r\n",
      " ],\r\n",
      " \"display_name\": \"python (conda-root)\",\r\n",
      " \"language\": \"python\"\r\n",
      "}\r\n"
     ]
    }
   ],
   "source": [
    "!cat /Users/jakevdp/Library/Jupyter/kernels/conda-root/kernel.json"
   ]
  },
  {
   "cell_type": "markdown",
   "metadata": {},
   "source": [
    "If you'd like to create a new kernel, you can do so using the [jupyter ipykernel command](http://ipython.readthedocs.io/en/stable/install/kernel_install.html#kernels-for-different-environments);\n",
    "for example, I created the above kernels for my primary conda environments using the following as a template:\n",
    "```\n",
    "$ source activate myenv\n",
    "$ python -m ipykernel install --user --name myenv --display-name \"Python (myenv)\"\n",
    "```\n",
    "If you wish, there are also more automated ways to link Jupyter kernels to conda environments; see for example the [nb_conda package](https://github.com/Anaconda-Platform/nb_conda).\n",
    "\n",
    "The mismatch between shell paths and executable paths happens because the Python kernel specification does not modify the shell environment of the notebook to match the Python envorinment.\n",
    "Because of this ``!pip install XXX`` and ``!conda install XXX`` do not always install packages where you might expect them to."
   ]
  },
  {
   "cell_type": "markdown",
   "metadata": {},
   "source": [
    "## Some Proposals"
   ]
  },
  {
   "cell_type": "markdown",
   "metadata": {},
   "source": [
    "So, in summary, the reason that installation of packages in the Jupyter notebook is fraught with difficulty is fundamentally that **Jupyter's shell environment and Python kernel are mismatched**, and that means that you have to do more than simply ``pip install`` or ``conda install`` to make things work.\n",
    "The exception is the special case where you run ``jupyter notebook`` from the same Python environemnt to which your kernel points; in that case the simple installation approach should work.\n",
    "\n",
    "But that leaves us in an undesireable place, and increases the learning curve for novice users who may want to do something they (rightly) presume should be simple: install a package and then use it.\n",
    "So what can we as a community do to smooth-out this issue?\n",
    "\n",
    "I have a few ideas, some of which might even be feasible."
   ]
  },
  {
   "cell_type": "markdown",
   "metadata": {},
   "source": [
    "### Potential Changes to Jupyter\n",
    "\n",
    "As I mentioned, the fundamental issue is a mismatch between Jupyter's shell environement and compute kernel.\n",
    "So, could we massage kernel specifications such that they modify the shell environment appropriately?\n",
    "\n",
    "Perhaps: for example, [this github issue](https://github.com/jupyterhub/jupyterhub/issues/847)) shows a potential approach.\n",
    "\n",
    "Basically, in your kernel directory, you can add a script ``kernel-startup.sh`` that looks something like this (and make sure you change the permissions so that it's executable):\n",
    "\n",
    "```\n",
    "#!/usr/bin/env bash\n",
    "\n",
    "# activate anaconda env\n",
    "source activate myenv\n",
    "\n",
    "# this is the critical part, and should be at the end of your script:\n",
    "exec python -m ipykernel $@\n",
    "```\n",
    "\n",
    "Then in your ``kernel.json`` file, modify the ``argv`` field to look like this:\n",
    "\n",
    "```\n",
    "\"argv\": [\n",
    "   \"/path/to/kernel-startup.sh\",\n",
    "   \"-f\",\n",
    "   \"{connection_file}\"\n",
    " ]\n",
    "```\n",
    "\n",
    "Once you do this, switching to the ``myenv`` kernel will automatically activate the ``myenv`` conda environment, which changes your ``$PATH`` and other system variables such that ``!conda install XXX`` and ``!pip install XXX`` will work correctly. A similar approach could work for virtualenvs.\n",
    "\n",
    "There is one tricky issue here: this approach will fail if your ``myenv`` environment does not have the ``jupyter`` package installed, and probably requires it to have the same jupyter version as was used to launch the notebook. So it's not a full solution to the problem, but this may point to a path forward that would be far less confusing for users, if Python kernels could be set-up to do this sort of thing by default."
   ]
  },
  {
   "cell_type": "markdown",
   "metadata": {},
   "source": [
    "### Potential Changes to pip\n",
    "\n",
    "One source of installation confusion, even outside of Jupyter, is the fact that, depending on the nature of your system's ``$PATH`` variable, ``pip`` and ``python`` might point to different paths.\n",
    "In this case ``pip install XXX`` will install packages to a path inaccessible to the ``python`` executable.\n",
    "This is one reason Nick Coughlan has [indicated](https://twitter.com/ncoghlan_dev/status/922979220711661568) that ``pip`` may someday be deprecated in favor of ``python -m pip``.\n",
    "\n",
    "Though it's more verbose, I think this would be a useful change from the point of view of users, particularly as the use of virtualenvs and conda envs becomes more common."
   ]
  },
  {
   "cell_type": "markdown",
   "metadata": {},
   "source": [
    "### Changes to Conda\n",
    "\n",
    "For symmetry, it would be nice if ``python -m conda install`` could be expected to work in the same way the ``pip`` counterpart does.\n",
    "You can call ``conda`` this way in the root environment, but the conda Python package (as opposed to the conda executable) cannot currently be installed anywhere but the root environment; if you try you get the following:\n",
    "```\n",
    "(myenv) jakevdp$ conda install conda\n",
    "Fetching package metadata ...........\n",
    "\n",
    "InstallError: Error: 'conda' can only be installed into the root environment\n",
    "```\n",
    "I suspect that allowing ``python -m conda install`` in all conda environments would require a fairly significant redesign of conda's installation model, so it may not be worth the change just for symmetry with ``pip``."
   ]
  },
  {
   "cell_type": "markdown",
   "metadata": {},
   "source": [
    "### New Jupyter Magic Functions\n",
    "\n",
    "Even if the above changes to the stack are not possible or desirable, we could simplify the user experience somewhat by introducing ``%pip`` and ``%conda`` magic functions within the Jupyter notebook that detect the current kernel and make certain packages are installed in the correct location."
   ]
  },
  {
   "cell_type": "markdown",
   "metadata": {},
   "source": [
    "#### pip magic\n",
    "\n",
    "For example, here's how you can define a ``%pip`` magic function that works in the current kernel:"
   ]
  },
  {
   "cell_type": "code",
   "execution_count": 22,
   "metadata": {},
   "outputs": [],
   "source": [
    "from IPython.core.magic import register_line_magic\n",
    "\n",
    "@register_line_magic\n",
    "def pip(args):\n",
    "    \"\"\"Use pip from the current kernel\"\"\"\n",
    "    from pip import main\n",
    "    main(args.split())"
   ]
  },
  {
   "cell_type": "markdown",
   "metadata": {},
   "source": [
    "Running it as follows will install packages in the expected location"
   ]
  },
  {
   "cell_type": "code",
   "execution_count": 23,
   "metadata": {},
   "outputs": [
    {
     "name": "stdout",
     "output_type": "stream",
     "text": [
      "Requirement already satisfied: numpy in /Users/jakevdp/anaconda/lib/python3.6/site-packages\n"
     ]
    }
   ],
   "source": [
    "%pip install numpy"
   ]
  },
  {
   "cell_type": "markdown",
   "metadata": {},
   "source": [
    "Note that Jupyter developer Matthias Bussonnier has published essentially this in his [pip_magic](https://github.com/Carreau/pip_magic) repository, so you can do\n",
    "```\n",
    "$ pip install pip_magic\n",
    "```\n",
    "and use this right now (that is, assuming you install ``pip_magic`` in the right place!)"
   ]
  },
  {
   "cell_type": "markdown",
   "metadata": {},
   "source": [
    "#### conda magic\n",
    "\n",
    "Similarly, we can define a conda magic that will do the right thing if you type ``%conda install XXX``.\n",
    "This is a bit more complicated than the ``pip`` magic, because it must first confirm that the environment is conda-compatible, and then call a subprocess to execute the appropriate shell command:"
   ]
  },
  {
   "cell_type": "code",
   "execution_count": 24,
   "metadata": {},
   "outputs": [],
   "source": [
    "from IPython.core.magic import register_line_magic\n",
    "import sys\n",
    "import os\n",
    "from subprocess import Popen, PIPE\n",
    "from unittest.mock import patch\n",
    "\n",
    "\n",
    "@register_line_magic\n",
    "def conda(args):\n",
    "    \"\"\"Use conda from the current kernel\"\"\"        \n",
    "    # First, check if this Python installation uses conda. All conda envs have\n",
    "    # a conda executable in the same path as the python executable\n",
    "    # and a 'conda-meta/history' file in the prefix\n",
    "    conda_path = os.path.join(os.path.dirname(sys.executable), 'conda')  # OSX/Linux\n",
    "    conda_exe_path = os.path.join(os.path.dirname(sys.executable), 'conda.exe')  # Windows\n",
    "    \n",
    "    conda_executable_exists = os.path.exists(conda_path) or os.path.exists(conda_exe_path)\n",
    "    conda_meta_exists = os.path.exists(os.path.join(sys.prefix, 'conda-meta', 'history'))\n",
    "    \n",
    "    if not (conda_meta_exists and conda_executable_exists):\n",
    "        raise ValueError(\"Python kernel does not appear to be a conda environment.  \"\n",
    "                         \"Please use ``%pip install`` instead.\")\n",
    "    \n",
    "    # Add --prefix to point conda installation to the current environment\n",
    "    # Additionally, because the notebook does not allow us to respond \"yes\" during the\n",
    "    # installation, we need to insert a --yes in the arguments to conda.\n",
    "    args = args.split()\n",
    "    if args[0] in ['install', 'update', 'upgrade', 'remove', 'uninstall', 'create']:\n",
    "        if '-p' not in args and '--prefix' not in args:\n",
    "            args.insert(1, '--prefix')\n",
    "            args.insert(2, sys.prefix)\n",
    "        if '-y' not in args and '--yes' not in args:\n",
    "            args.insert(1, '--yes')\n",
    "            \n",
    "    # Call conda from command line with subprocess & send results to stdout & stderr\n",
    "    # TODO: fix conda_path to work with Windows\n",
    "    # TODO: fix string encoding to work with Python 2 (or not...)\n",
    "    with Popen([conda_path] + args, stdout=PIPE, stderr=PIPE) as process:\n",
    "        # Read stdout character by character, as it includes real-time progress updates\n",
    "        for c in iter(lambda: process.stdout.read(1), b''):\n",
    "            sys.stdout.write(c.decode(sys.stdout.encoding))\n",
    "        # Read stderr line by line, because real-time does not matter\n",
    "        for line in iter(process.stderr.readline, b''):\n",
    "            sys.stderr.write(line.decode(sys.stderr.encoding))"
   ]
  },
  {
   "cell_type": "markdown",
   "metadata": {},
   "source": [
    "You can now use ``%conda install`` and it will install packages to the correct environment:"
   ]
  },
  {
   "cell_type": "code",
   "execution_count": 25,
   "metadata": {},
   "outputs": [
    {
     "name": "stdout",
     "output_type": "stream",
     "text": [
      "Fetching package metadata ...........\n",
      "Solving package specifications: .\n",
      "\n",
      "# All requested packages already installed.\n",
      "# packages in environment at /Users/jakevdp/anaconda:\n",
      "#\n",
      "pandas                    0.21.0           py36hfed917e_1  \n"
     ]
    }
   ],
   "source": [
    "%conda install pandas"
   ]
  },
  {
   "cell_type": "markdown",
   "metadata": {},
   "source": [
    "If a package is not available in conda, it gives an error:"
   ]
  },
  {
   "cell_type": "code",
   "execution_count": 26,
   "metadata": {},
   "outputs": [
    {
     "name": "stdout",
     "output_type": "stream",
     "text": [
      "Fetching package metadata ...........\n"
     ]
    },
    {
     "name": "stderr",
     "output_type": "stream",
     "text": [
      "\n",
      "PackageNotFoundError: Packages missing in current channels:\n",
      "            \n",
      "  - supersmoother\n",
      "\n",
      "We have searched for the packages in the following channels:\n",
      "            \n",
      "  - https://repo.continuum.io/pkgs/main/osx-64\n",
      "  - https://repo.continuum.io/pkgs/main/noarch\n",
      "  - https://repo.continuum.io/pkgs/free/osx-64\n",
      "  - https://repo.continuum.io/pkgs/free/noarch\n",
      "  - https://repo.continuum.io/pkgs/r/osx-64\n",
      "  - https://repo.continuum.io/pkgs/r/noarch\n",
      "  - https://repo.continuum.io/pkgs/pro/osx-64\n",
      "  - https://repo.continuum.io/pkgs/pro/noarch\n",
      "            \n",
      "\n"
     ]
    }
   ],
   "source": [
    "%conda install supersmoother"
   ]
  },
  {
   "cell_type": "markdown",
   "metadata": {},
   "source": [
    "This conda magic still needs some work to be a general solution, but something like this could be a useful start.\n",
    "\n",
    "If a pip magic and conda magic similar to the above were added to Jupyter, I think it could go a long way toward solving the common problems that users have when trying to install Python packages for use with Jupyter notebooks.\n",
    "This approach is not without its own dangers, though: these magics are yet another layer of abstraction that, like all abstractions, will inevitably leak.\n",
    "But if they are implemented carefully, I think it would lead to a much nicer overall experience for Python users in Jupyter."
   ]
  },
  {
   "cell_type": "markdown",
   "metadata": {},
   "source": [
    "## Summary\n",
    "\n",
    "In this post, I tried to answer once and for all the perrennial question, \"how do I install Python packages in the Jupyter notebook\".\n",
    "After proposing some simple solutions that can be used today, I went into a detailed explanation of *why* these solutions are necessary: it comes down to the fact that in Jupyter, the shell and the kernel are entirely disconnected.\n",
    "The fact that a full explanation took so many words and touched so many concepts, I think, indicates a real usability issue for the Jupyter ecosystem.\n",
    "Finally, I proposed a few possible avenues that the community might adopt to try to streamline this process.\n",
    "I hope that these ideas are useful.\n",
    "\n",
    "One final addendum: I have a huge amount of respect and appreciation for the developers of Jupyter, Conda, Pip, and related tools that form the foundations of the Python data science ecosystem.\n",
    "I'm fairly certain those developers have already considered these issues and weighed some of these potential fixes – if any of you are reading this, please feel free to comment and set me straight on anything I've overlooked!\n",
    "And, finally, thanks for all that you do."
   ]
  }
 ],
 "metadata": {
  "kernelspec": {
   "display_name": "python (conda-root)",
   "language": "python",
   "name": "conda-root"
  },
  "language_info": {
   "codemirror_mode": {
    "name": "ipython",
    "version": 3
   },
   "file_extension": ".py",
   "mimetype": "text/x-python",
   "name": "python",
   "nbconvert_exporter": "python",
   "pygments_lexer": "ipython3",
   "version": "3.6.1"
  }
 },
 "nbformat": 4,
 "nbformat_minor": 2
}
