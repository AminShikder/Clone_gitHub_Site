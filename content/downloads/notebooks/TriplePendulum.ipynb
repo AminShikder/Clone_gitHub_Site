{
 "cells": [
  {
   "cell_type": "markdown",
   "metadata": {},
   "source": [
    "# Triple Pendulum CHAOS!!!"
   ]
  },
  {
   "cell_type": "markdown",
   "metadata": {},
   "source": [
    "From this tweet earlier this week:\n",
    "\n",
    "<blockquote class=\"twitter-tweet\" data-lang=\"en\"><p lang=\"en\" dir=\"ltr\">Slightly different initial conditions have this effect on a non-linear chaotic system like a triple pendulum: see how 41 of them do perform <a href=\"https://t.co/dP00jSKb5l\">pic.twitter.com/dP00jSKb5l</a></p>&mdash; Massimo (@Rainmaker1973) <a href=\"https://twitter.com/Rainmaker1973/status/838462016532668418\">March 5, 2017</a></blockquote>\n",
    "<script async src=\"//platform.twitter.com/widgets.js\" charset=\"utf-8\"></script>"
   ]
  },
  {
   "cell_type": "markdown",
   "metadata": {},
   "source": [
    "My blog post with [Double Pendulum](https://jakevdp.github.io/blog/2012/08/18/matplotlib-animation-tutorial/) code.\n",
    "\n",
    "Here's the first of the three relevant equations from the appendix of [this document](https://www.nickeyre.com/images/triplependulum.pdf):"
   ]
  },
  {
   "cell_type": "markdown",
   "metadata": {},
   "source": [
    "![Equation Screenshot](../../images/eqn-screenshot.png)"
   ]
  },
  {
   "cell_type": "markdown",
   "metadata": {},
   "source": [
    "Yikes."
   ]
  },
  {
   "cell_type": "markdown",
   "metadata": {},
   "source": [
    "Adapted from the paper [Gede et al. 2013](https://www.researchgate.net/publication/267490975_Constrained_Multibody_Dynamics_With_Python_From_Symbolic_Equation_Generation_to_Publication)\n",
    "\n",
    "It uses the [Kane's Method](http://docs.sympy.org/dev/modules/physics/mechanics/kane.html) implementation within the [Sympy package](http://sympy.org)"
   ]
  },
  {
   "cell_type": "code",
   "execution_count": null,
   "metadata": {
    "collapsed": true
   },
   "outputs": [],
   "source": [
    "%matplotlib inline\n",
    "import matplotlib.pyplot as plt\n",
    "import numpy as np\n",
    "\n",
    "from sympy import symbols\n",
    "from sympy.physics import mechanics as mech\n",
    "\n",
    "from sympy import Dummy, lambdify\n",
    "from scipy.integrate import odeint"
   ]
  },
  {
   "cell_type": "code",
   "execution_count": null,
   "metadata": {
    "collapsed": true
   },
   "outputs": [],
   "source": [
    "def integrate_pendulum(n, times,\n",
    "                       initial_positions=135,\n",
    "                       initial_velocities=0,\n",
    "                       lengths=None, masses=1):\n",
    "    \"\"\"Integrate a multi-pendulum with `n` sections\"\"\"\n",
    "    #-------------------------------------------------\n",
    "    # Step 1: construct the pendulum model\n",
    "    \n",
    "    # Generalized coordinates and velocities\n",
    "    q = mech.dynamicsymbols('q:{0}'.format(n))\n",
    "    u = mech.dynamicsymbols('u:{0}'.format(n))\n",
    "\n",
    "    # mass and length\n",
    "    m = symbols('m:{0}'.format(n))\n",
    "    l = symbols('l:{0}'.format(n))\n",
    "\n",
    "    # gravity and time symbols\n",
    "    g, t = symbols('g,t')\n",
    "    \n",
    "    #--------------------------------------------------\n",
    "    # Step 2: build the model using the Kane Method\n",
    "\n",
    "    # Create pivot point reference frame\n",
    "    A = mech.ReferenceFrame('A')\n",
    "    P = mech.Point('P')\n",
    "    P.set_vel(A, 0)\n",
    "\n",
    "    # lists to hold reference frames, particles, and forces\n",
    "    # for each pendulum in the chain\n",
    "    frames = [] \n",
    "    particles = []\n",
    "    forces = []\n",
    "    kin_odes = []\n",
    "\n",
    "    for i in range(n):\n",
    "        # Create a new reference frame \n",
    "        Ai = A.orientnew('A' + str(i), 'Axis', [q[i], A.z])\n",
    "        Ai.set_ang_vel(A, u[i] * A.z)\n",
    "        frames.append(Ai) # Add it to Frames list\n",
    "\n",
    "        # Create a point in this reference frame\n",
    "        Pi = P.locatenew('P' + str(i), l[i] * Ai.x)\n",
    "        Pi.v2pt_theory(P, A, Ai) # Set velocity of Pi\n",
    "\n",
    "        # Create a new particle at this point\n",
    "        Pai = mech.Particle('Pa' + str(i), Pi, m[i])\n",
    "        particles.append(Pai)\n",
    "\n",
    "        # Set forces & compute kinematic ODE\n",
    "        forces.append((Pi, m[i] * g * A.x))\n",
    "        kin_odes.append(q[i].diff(t) - u[i])\n",
    "\n",
    "        P = Pi\n",
    "\n",
    "    # Generate equations of motion\n",
    "    kane = mech.KanesMethod(A, q_ind=q, u_ind=u,\n",
    "                            kd_eqs=kin_odes)\n",
    "    fr, frstar = kane.kanes_equations(forces, particles)\n",
    "    \n",
    "    #-----------------------------------------------------\n",
    "    # Step 3: numerically evaluate equations and integrate\n",
    "\n",
    "    # initial positions and velocities – assumed to be given in degrees\n",
    "    y0 = np.concatenate([np.deg2rad(initial_positions) * np.ones(n),\n",
    "                         np.deg2rad(initial_velocities) * np.ones(n)])\n",
    "    y0 = np.asarray(y0)\n",
    "        \n",
    "    # lengths and masses\n",
    "    if lengths is None:\n",
    "        lengths = np.ones(n) / n\n",
    "    lengths *= np.ones(n)\n",
    "    masses *= np.ones(n)\n",
    "\n",
    "    # Fixed parameters: gravitational constant, masses, and lengths\n",
    "    parameters = [g] # Parameter Definitions\n",
    "    parameter_vals = [9.81] # First we define gravity\n",
    "\n",
    "    for i in range(n):\n",
    "        parameters += [l[i], m[i]]\n",
    "        parameter_vals += [lengths[i], masses[i]]\n",
    "\n",
    "    # dummy symbols for translating to functions of time\n",
    "    dummy_symbols = [Dummy() for i in q + u]\n",
    "    dummy_dict = dict(zip(q + u, dummy_symbols))\n",
    "    kds = kane.kindiffdict()\n",
    "\n",
    "    # substitute dummy symbols for qdot terms\n",
    "    mm_sym = kane.mass_matrix_full.subs(kds).subs(dummy_dict)\n",
    "    fo_sym = kane.forcing_full.subs(kds).subs(dummy_dict)\n",
    "\n",
    "    # functions for numerical calculation \n",
    "    mm_func = lambdify(dummy_symbols + parameters, mm_sym)\n",
    "    fo_func = lambdify(dummy_symbols + parameters, fo_sym)\n",
    "\n",
    "    # function which computes the derivatives of parameters\n",
    "    def rhs(y, t, args):\n",
    "        vals = np.hstack((y, args))\n",
    "        sol = np.linalg.solve(mm_func(*vals), fo_func(*vals))\n",
    "        return np.array(sol).T[0]\n",
    "\n",
    "    # ODE integration\n",
    "    return odeint(rhs, y0, times, args=(parameter_vals,))"
   ]
  },
  {
   "cell_type": "code",
   "execution_count": null,
   "metadata": {
    "collapsed": false
   },
   "outputs": [],
   "source": [
    "def get_xy_position(p, lengths=None):\n",
    "    p = np.atleast_2d(p)\n",
    "    n = p.shape[1] // 2\n",
    "    if lengths is None:\n",
    "        lengths = np.ones(n) / n\n",
    "    zeros = np.zeros(p.shape[0])[:, None]\n",
    "    x = np.hstack([zeros, lengths * np.sin(p[:, :n])])\n",
    "    y = np.hstack([zeros, -lengths * np.cos(p[:, :n])])\n",
    "    return np.cumsum(x, 1), np.cumsum(y, 1)"
   ]
  },
  {
   "cell_type": "code",
   "execution_count": null,
   "metadata": {
    "collapsed": false
   },
   "outputs": [],
   "source": [
    "t = np.linspace(0, 12, 240)\n",
    "p = integrate_pendulum(n=2, times=t)\n",
    "\n",
    "x, y = get_xy_position(p)\n",
    "plt.plot(x, y);"
   ]
  },
  {
   "cell_type": "code",
   "execution_count": null,
   "metadata": {
    "collapsed": false
   },
   "outputs": [],
   "source": [
    "from matplotlib import animation\n",
    "from IPython.display import HTML\n",
    "\n",
    "def animate_pendulum(n, **kwargs):\n",
    "    t = np.linspace(0, 10, 200)\n",
    "    p = integrate_pendulum(n, t)\n",
    "    x, y = get_xy_position(p)\n",
    "    \n",
    "    fig, ax = plt.subplots(figsize=(6, 6))\n",
    "    fig.subplots_adjust(left=0.01, right=0.99, bottom=0.01, top=0.99)\n",
    "    ax.grid()\n",
    "    ax.axis('equal')\n",
    "    ax.set_xlim(-1, 1)\n",
    "    ax.set_ylim(-1, 1)\n",
    "\n",
    "    line, = ax.plot([], [], 'o-', lw=2)\n",
    "\n",
    "    def init():\n",
    "        line.set_data([], [])\n",
    "        return line,\n",
    "\n",
    "    def animate(i):\n",
    "        line.set_data(x[i], y[i])\n",
    "        return line,\n",
    "\n",
    "    ani = animation.FuncAnimation(fig, animate, frames=len(t),\n",
    "                                  interval=1000 * t.max() / len(t),\n",
    "                                  blit=True, init_func=init)\n",
    "    plt.close(fig)\n",
    "    return HTML(ani.to_html5_video())\n",
    "    \n",
    "animate_pendulum(3)"
   ]
  },
  {
   "cell_type": "code",
   "execution_count": null,
   "metadata": {
    "collapsed": false,
    "scrolled": false
   },
   "outputs": [],
   "source": [
    "from matplotlib import collections\n",
    "\n",
    "\n",
    "def animate_pendulum_multiple(n, n_pendulums=41, jitter=1E-5, track_length=15,\n",
    "                              filename=None, **kwargs):\n",
    "    oversample = 3\n",
    "    track_length *= oversample\n",
    "    \n",
    "    t = np.linspace(0, 10, oversample * 200)\n",
    "    p = [integrate_pendulum(n, t, initial_positions=135 + i * jitter / n_pendulums)\n",
    "         for i in range(n_pendulums)]\n",
    "    positions = np.array([get_xy_position(pi) for pi in p])\n",
    "    positions = positions.transpose(0, 2, 3, 1)\n",
    "    # positions is a 4D array: (npendulums, len(t), n+1, xy)\n",
    "    \n",
    "    fig, ax = plt.subplots(figsize=(6, 6))\n",
    "    fig.subplots_adjust(left=0.01, right=0.99, bottom=0.01, top=0.99)\n",
    "    ax.grid()\n",
    "    ax.axis('equal')\n",
    "    ax.set_xlim(-1, 1)\n",
    "    ax.set_ylim(-1, 1)\n",
    "    \n",
    "    track_segments = np.zeros((n_pendulums, 0, 2))\n",
    "    tracks = collections.LineCollection(track_segments, cmap='rainbow')\n",
    "    tracks.set_array(np.linspace(0, 1, n_pendulums))\n",
    "    ax.add_collection(tracks)\n",
    "    \n",
    "    pendulum_segments = np.zeros((n_pendulums, 0, 2))\n",
    "    pendulums = collections.LineCollection(pendulum_segments, colors='black')\n",
    "    ax.add_collection(pendulums)\n",
    "\n",
    "    def init():\n",
    "        pendulums.set_segments(np.zeros((n_pendulums, 0, 2)))\n",
    "        tracks.set_segments(np.zeros((n_pendulums, 0, 2)))\n",
    "        return pendulums, tracks\n",
    "\n",
    "    def animate(i):\n",
    "        i = i * oversample\n",
    "        pendulums.set_segments(positions[:, i])\n",
    "        sl = slice(max(0, i - track_length), i)\n",
    "        tracks.set_segments(positions[:, sl, -1])\n",
    "        return pendulums, tracks\n",
    "\n",
    "    interval = 1000 * oversample * t.max() / len(t)\n",
    "    ani = animation.FuncAnimation(fig, animate, frames=len(t) // oversample,\n",
    "                                  interval=interval,\n",
    "                                  blit=True, init_func=init)\n",
    "    \n",
    "    if filename:\n",
    "        fps = 1000 / interval\n",
    "        if filename.endswith('gif'):\n",
    "            ani.save(filename, fps=fps, writer='imagemagick')\n",
    "        elif filename.endswith('mp4'):\n",
    "            ani.save(filename, fps=fps, extra_args=['-vcodec', 'libx264'])\n",
    "        else:\n",
    "            ani.save(filename, fps=fps)\n",
    "    plt.close(fig)\n",
    "\n",
    "    return HTML(ani.to_html5_video())\n",
    "    \n",
    "animate_pendulum_multiple(3, filename='triple-pendulum.mp4')"
   ]
  }
 ],
 "metadata": {
  "anaconda-cloud": {},
  "kernelspec": {
   "display_name": "Python 3.5",
   "language": "",
   "name": "python3.5"
  },
  "language_info": {
   "codemirror_mode": {
    "name": "ipython",
    "version": 3
   },
   "file_extension": ".py",
   "mimetype": "text/x-python",
   "name": "python",
   "nbconvert_exporter": "python",
   "pygments_lexer": "ipython3",
   "version": "3.5.1"
  }
 },
 "nbformat": 4,
 "nbformat_minor": 0
}
